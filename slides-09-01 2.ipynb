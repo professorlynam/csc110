{
  "cells": [
    {
      "cell_type": "raw",
      "metadata": {},
      "source": [
        "---\n",
        "title: \"files (class slides)\"\n",
        "format: revealjs\n",
        "slide-number: true\n",
        "df-print: kable\n",
        "---"
      ],
      "id": "203c4f77"
    },
    {
      "cell_type": "markdown",
      "metadata": {},
      "source": [
        "# CSc 110 - files\n",
        "\n",
        "## Announcements\n",
        "\n",
        "* Check grades on D2L\n",
        "* Project 4 due today at 7pm\n",
        "* No class Friday November 10\n",
        "* Midterm 3 on Wednesday November 15\n",
        "  * content: Midterm 2 + dictionaries + files + tuples (Modules 1-11)\n",
        "* Contact your TA if you want to go over your Midterm 2 answers (no extra credit for meetings anymore)\n",
        "\n",
        "## Files and file systems\n",
        "\n",
        "-   On (at least most of) our computers, there is a **file system** via which we can create, save, modify, and remove files\n",
        "\n",
        "    -   On Mac: can browse with Finder\n",
        "\n",
        "    -   On Windows: can browse with windows explorer\n",
        "\n",
        "-   File systems are often hierarchical\n",
        "\n",
        "## Opening a file\n",
        "\n",
        "-   To open a file in a python program:\n",
        "\n",
        "    **`a_file = open(file_name, mode)`**\n",
        "\n",
        "-   **file_name** should be the name of the file to open\n",
        "\n",
        "    -   It can also be a path\n",
        "\n",
        "-   **mode should be the mode in which to open in**\n",
        "\n",
        "    -   **'a'    'r'    'w'**\n",
        "\n",
        "After opening, use the **a_file** object to read from or write to the file\n",
        "\n",
        "## Absolute vs Relative path\n",
        "\n",
        "- A path describes a location.\n",
        "    -   */home/doc/example.txt*\n",
        "    \n",
        "- An **absolute path** describes the location from the root directory. \n",
        "\n",
        "- A **relative** path describes the location of a file relative to the current (working) directory.\n",
        "\n",
        "## Opening and closing a file\n",
        "\n",
        "info.txt\n",
        "\n",
        "```{html}\n",
        "The quick brown fox\n",
        "jumped over\n",
        "the lazy\n",
        "bear\n",
        "sitting by the tree\n",
        "```\n",
        "\n",
        "read_file.py"
      ],
      "id": "1cd6b86e"
    },
    {
      "cell_type": "code",
      "metadata": {},
      "source": [
        "#| eval: true\n",
        "#| echo: true\n",
        "info = open('info.txt', 'r')\n",
        "info.close()"
      ],
      "id": "11f7c0be",
      "execution_count": null,
      "outputs": []
    },
    {
      "cell_type": "markdown",
      "metadata": {},
      "source": [
        "## Reading a line\n",
        "\n",
        "-   **`file.readline()`**\n",
        "\n",
        "    -   reads one line from a file, returns a string\n",
        "\n",
        "    -   returns an empty string if it has reached the end of the content\n",
        "\n",
        "-   **`file.readlines()`**\n",
        "\n",
        "    -   reads all of the lines\n",
        "\n",
        "    -   returns a list of strings\n",
        "\n",
        "-   **`file.read()`**\n",
        "\n",
        "    -   returns one string\n",
        "\n",
        "## Reading a line example\n",
        "\n",
        "info.txt\n",
        "\n",
        "```{html}\n",
        "The quick brown fox\n",
        "jumped over\n",
        "the lazy\n",
        "bear\n",
        "sitting by the tree\n",
        "```\n",
        "\n",
        "read_line.py"
      ],
      "id": "3399065e"
    },
    {
      "cell_type": "code",
      "metadata": {},
      "source": [
        "#| eval: true\n",
        "#| echo: true\n",
        "def read_first_line(filename):\n",
        "  info = open(filename, 'r')\n",
        "  line = info.readline()\n",
        "  info.close()\n",
        "  return line\n",
        "\n",
        "assert read_first_line('info.txt') == \"The quick brown fox\\n\""
      ],
      "id": "cd4d8e93",
      "execution_count": null,
      "outputs": []
    },
    {
      "cell_type": "markdown",
      "metadata": {},
      "source": [
        "# Submit code for attendance\n",
        "\n",
        "Submit the `read_first_line` function to Gradescope for attendance (given a file name string, open file in read mode, read first line, return that first line).\n",
        "\n",
        "Name your file `first_read.py`\n",
        "\n",
        "## Iterating over a file directly\n",
        "\n",
        "The type `file` is iterable so we can use a `for x in file` loop:"
      ],
      "id": "783f27c4"
    },
    {
      "cell_type": "code",
      "metadata": {},
      "source": [
        "#| eval: true\n",
        "#| echo: true\n",
        "info = open('info.txt', 'r')\n",
        "for line in info:\n",
        "    print(line)\n",
        "info.close()"
      ],
      "id": "195fc81b",
      "execution_count": null,
      "outputs": []
    },
    {
      "cell_type": "markdown",
      "metadata": {},
      "source": [
        "## More string methods\n",
        "\n",
        "We worked with `.isnumeric()`, a string method to check if a string contains only digit characters\n",
        "\n",
        "Here are some other useful string methods:\n",
        "\n",
        "-   `string.strip(chars)` -- removes any of the characters in chars from the beginning or end of string, returns a string\n",
        "-   `string.split(chars)` -- splits string at the chars, returns a list\n",
        "\n",
        "## More string methods -- `.strip()`"
      ],
      "id": "de3984c1"
    },
    {
      "cell_type": "code",
      "metadata": {},
      "source": [
        "#| eval: true\n",
        "#| echo: true\n",
        "info = open('info.txt', 'r')\n",
        "\n",
        "first_line = info.readline()\n",
        "second_line = info.readline()\n",
        "print(first_line)\n",
        "print(second_line)\n",
        "\n",
        "\n",
        "first_line = first_line.strip(\"\\n\")\n",
        "second_line = second_line.strip(\"\\n\")\n",
        "print(first_line)\n",
        "print(second_line)\n",
        "\n",
        "info.close()"
      ],
      "id": "a8eae9ed",
      "execution_count": null,
      "outputs": []
    },
    {
      "cell_type": "markdown",
      "metadata": {},
      "source": [
        "## More string methods -- `.split(\" \")`"
      ],
      "id": "a3adcb89"
    },
    {
      "cell_type": "code",
      "metadata": {},
      "source": [
        "#| eval: true\n",
        "#| echo: true\n",
        "info = open('info.txt', 'r')\n",
        "\n",
        "first_line = info.readline().strip(\"\\n\")\n",
        "second_line = info.readline().strip(\"\\n\")\n",
        "\n",
        "first_line_words = first_line.split(\" \")\n",
        "second_line_words = second_line.split(\" \")\n",
        "\n",
        "print(first_line_words)\n",
        "print(second_line_words)\n",
        "\n",
        "info.close()"
      ],
      "id": "f1e2eb5b",
      "execution_count": null,
      "outputs": []
    },
    {
      "cell_type": "markdown",
      "metadata": {},
      "source": [
        "## Write a function\n",
        "\n",
        "1.  Its name is `lines_and_words`\n",
        "2.  It takes a string called `file_name`\n",
        "3.  It opens the file with `file_name` in read mode\n",
        "4.  It iterates over the file's lines, splitting each line by space (remember to strip the line breaks)\n",
        "5.  It returns a list of lists, where each inner-list is a line containing all the words in that line\n",
        "\n",
        "Test case ([download text file](data/info.txt)):"
      ],
      "id": "f9f8128f"
    },
    {
      "cell_type": "code",
      "metadata": {},
      "source": [
        "#| eval: false\n",
        "#| echo: true\n",
        "assert lines_and_words(\"info.txt\") == [ ['The', 'quick', 'brown', 'fox'], \n",
        "                                        ['jumped', 'over'], ['the', 'lazy'],\n",
        "                                        ['bear'], ['sitting', 'by', 'the', 'tree'] ]"
      ],
      "id": "e5a3cb83",
      "execution_count": null,
      "outputs": []
    },
    {
      "cell_type": "markdown",
      "metadata": {},
      "source": [
        "## Write a function -- solution"
      ],
      "id": "cf0c5ed5"
    },
    {
      "cell_type": "code",
      "metadata": {},
      "source": [
        "#| eval: true\n",
        "#| echo: true\n",
        "def lines_and_words(file_name):\n",
        "  f = open(file_name, \"r\")\n",
        "  all_words = []\n",
        "  for line in f:\n",
        "    all_words.append(line.strip(\"\\n\").split(\" \"))\n",
        "  f.close()\n",
        "  return all_words\n",
        "  \n",
        "  \n",
        "def main():\n",
        "  assert lines_and_words(\"info.txt\") == [ ['The', 'quick', 'brown', 'fox'], \n",
        "                                          ['jumped', 'over'], ['the', 'lazy'],\n",
        "                                          ['bear'], ['sitting', 'by', 'the', 'tree'] ]\n",
        "                                     \n",
        "main()"
      ],
      "id": "6418a6ca",
      "execution_count": null,
      "outputs": []
    },
    {
      "cell_type": "markdown",
      "metadata": {},
      "source": [
        "## Write a function\n",
        "\n",
        "1.  Its name is `count_words`\n",
        "2.  It takes a string `file_name` as argument\n",
        "3.  It returns a dictionary with word counts\n",
        "\n",
        "Test case:"
      ],
      "id": "22582086"
    },
    {
      "cell_type": "code",
      "metadata": {},
      "source": [
        "#| eval: false\n",
        "#| echo: true\n",
        "assert count_words(\"info.txt\") == {\"the\": 3, \"quick\": 1, \"brown\": 1,\n",
        "                                   \"fox\": 1 , \"jumped\": 1, \"over\": 1, \n",
        "                                   \"lazy\": 1, \"bear\": 1, \"sitting\": 1,\n",
        "                                   \"by\": 1, \"tree\": 1}"
      ],
      "id": "59f1df9e",
      "execution_count": null,
      "outputs": []
    },
    {
      "cell_type": "markdown",
      "metadata": {},
      "source": [
        "## Write a function -- solution"
      ],
      "id": "f5398035"
    },
    {
      "cell_type": "code",
      "metadata": {},
      "source": [
        "#| eval: true\n",
        "#| echo: true\n",
        "def count_words(file_name):\n",
        "  f = open(file_name, \"r\")\n",
        "  counts = {}\n",
        "  for line in f:\n",
        "    words = line.strip(\"\\n\").split(\" \")\n",
        "    for w in words:\n",
        "      lower_case_w = w.lower()\n",
        "      if lower_case_w not in counts:\n",
        "        counts[lower_case_w] = 1\n",
        "      else:\n",
        "        counts[lower_case_w] += 1\n",
        "  return counts\n",
        "\n",
        "def main():\n",
        "  assert count_words(\"info.txt\") == {\"the\": 3, \"quick\": 1, \"brown\": 1,\n",
        "                                     \"fox\": 1 , \"jumped\": 1, \"over\": 1, \n",
        "                                     \"lazy\": 1, \"bear\": 1, \"sitting\": 1,\n",
        "                                     \"by\": 1, \"tree\": 1}\n",
        "                                 \n",
        "main()"
      ],
      "id": "71f410f2",
      "execution_count": null,
      "outputs": []
    },
    {
      "cell_type": "markdown",
      "metadata": {},
      "source": [
        "## Quiz 09\n",
        "\n",
        "<center>\n",
        "<div class=\"cleanslate w24tz-current-time w24tz-large\" style=\"display: inline-block !important; visibility: hidden !important; min-width:300px !important; min-height:145px !important;\"><a href=\"//24timezones.com/Tucson/time\" style=\"text-decoration: none\" class=\"clock24\" id=\"tz24-1695057604-c1393-eyJob3VydHlwZSI6IjEyIiwic2hvd2RhdGUiOiIwIiwic2hvd3NlY29uZHMiOiIwIiwiY29udGFpbmVyX2lkIjoiY2xvY2tfYmxvY2tfY2I2NTA4ODZjNDg0OWVlIiwidHlwZSI6ImRiIiwibGFuZyI6ImVuIn0=\" title=\"World Time :: Tucson\" target=\"_blank\" rel=\"nofollow\"></a>current time<div id=\"clock_block_cb650886c4849ee\"></div></div>\n",
        "<script type=\"text/javascript\" src=\"//w.24timezones.com/l.js\" async></script>\n",
        "</center>\n",
        "\n",
        "You have 10 minutes to complete the quiz\n",
        "\n",
        "* No need for comments, no need for a `main()`, no need for test cases\n",
        "\n",
        "Allowed built-in functions: `round()`, `input()`, `float()`, `str()`, `int()`, `len()`, `range()` "
      ],
      "id": "0d8037dc"
    }
  ],
  "metadata": {
    "kernelspec": {
      "name": "python3",
      "language": "python",
      "display_name": "Python 3 (ipykernel)"
    }
  },
  "nbformat": 4,
  "nbformat_minor": 5
}