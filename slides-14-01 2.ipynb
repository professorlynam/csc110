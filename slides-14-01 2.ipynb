{
  "cells": [
    {
      "cell_type": "raw",
      "metadata": {},
      "source": [
        "---\n",
        "title: \"handling exceptions (class slides)\"\n",
        "format: revealjs\n",
        "slide-number: true\n",
        "df-print: kable\n",
        "---"
      ],
      "id": "e451abdb"
    },
    {
      "cell_type": "markdown",
      "metadata": {},
      "source": [
        "# CSC -- handling errors (or exceptions)\n",
        "\n",
        "## `try:` and `except:`\n",
        "\n",
        "* Can be used to catch errors in a program without it having to crash!\n",
        "* The programmer can provide more information and/or context as to what happened\n",
        "\n",
        "## `try:` and `except:`\n"
      ],
      "id": "c3707be8"
    },
    {
      "cell_type": "code",
      "metadata": {},
      "source": [
        "#| echo: true\n",
        "#| eval: true\n",
        "ages = [35, 35, 23, 18, 45, 18, 72]\n",
        "try:\n",
        "    print(ages[0] + ages[4])\n",
        "except:\n",
        "    print('Failed to print the sum of two ages')"
      ],
      "id": "bb4a2c6c",
      "execution_count": null,
      "outputs": []
    },
    {
      "cell_type": "code",
      "metadata": {},
      "source": [
        "#| echo: true\n",
        "#| eval: true\n",
        "ages = [35, 35, 23, 18, 45, 18, 72]\n",
        "try:\n",
        "    print(ages[0] + ages[7])\n",
        "except:\n",
        "    print('Failed to print the sum of two ages')"
      ],
      "id": "859b04e0",
      "execution_count": null,
      "outputs": []
    },
    {
      "cell_type": "markdown",
      "metadata": {},
      "source": [
        "## `try:` and `except:`\n"
      ],
      "id": "2eb088cd"
    },
    {
      "cell_type": "code",
      "metadata": {},
      "source": [
        "#| echo: true\n",
        "#| eval: true\n",
        "ages = [35, 35, 23, 18, 45, 18, 72]\n",
        "try:\n",
        "    print(ages[0] + ages[7])\n",
        "except:\n",
        "    print('Failed to print the sum of two ages')\n",
        "     print('Tried to get a value from an index that does not exist in the list')"
      ],
      "id": "2a8b5966",
      "execution_count": null,
      "outputs": []
    },
    {
      "cell_type": "code",
      "metadata": {},
      "source": [
        "#| echo: true\n",
        "#| eval: false\n",
        "ages = [35, 35, 23, 18, 45, 18, 72]\n",
        "print(ages[0] + ages[7])"
      ],
      "id": "f89abe14",
      "execution_count": null,
      "outputs": []
    },
    {
      "cell_type": "markdown",
      "metadata": {},
      "source": [
        "IndexError: list index out of range"
      ],
      "id": "e131fccd"
    }
  ],
  "metadata": {
    "kernelspec": {
      "name": "mu_venv-38-20220821-111041",
      "language": "python",
      "display_name": "\"Python/Mu (mu_venv-38-20220821-111041)\""
    }
  },
  "nbformat": 4,
  "nbformat_minor": 5
}